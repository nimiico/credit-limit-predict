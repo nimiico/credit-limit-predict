{
  "nbformat": 4,
  "nbformat_minor": 0,
  "metadata": {
    "colab": {
      "provenance": []
    },
    "kernelspec": {
      "name": "python3",
      "display_name": "Python 3"
    },
    "language_info": {
      "name": "python"
    }
  },
  "cells": [
    {
      "cell_type": "code",
      "execution_count": 545,
      "metadata": {
        "id": "e03-ACkk7gaV"
      },
      "outputs": [],
      "source": [
        "import pandas as pd\n",
        "import numpy as np\n",
        "import seaborn as sns\n",
        "import matplotlib.pyplot as plt\n",
        "from sklearn.impute import KNNImputer\n",
        "from sklearn.preprocessing import LabelEncoder\n",
        "from sklearn.preprocessing import MinMaxScaler\n",
        "from sklearn.preprocessing import normalize\n",
        "from sklearn.impute import SimpleImputer\n",
        "from sklearn.model_selection import train_test_split\n",
        "from sklearn.linear_model import LinearRegression\n",
        "from sklearn.metrics import mean_squared_error\n",
        "from sklearn.ensemble import RandomForestRegressor\n",
        "from sklearn.datasets import make_regression\n",
        "from sklearn.preprocessing import StandardScaler\n",
        "import lightgbm as lgb\n",
        "from sklearn.metrics import mean_squared_error, r2_score"
      ]
    },
    {
      "cell_type": "code",
      "source": [
        "df = pd.read_csv('CreditPrediction.csv')"
      ],
      "metadata": {
        "id": "1inh-G7Y7khX"
      },
      "execution_count": 546,
      "outputs": []
    },
    {
      "cell_type": "code",
      "source": [
        "df.drop_duplicates(inplace=True, ignore_index= True)\n",
        "df.drop(['Unnamed: 19'], axis=1,inplace=True)"
      ],
      "metadata": {
        "id": "NRpBNmnf7zZb"
      },
      "execution_count": 547,
      "outputs": []
    },
    {
      "cell_type": "code",
      "source": [
        "df['Income_Category'] = df['Income_Category'].map({\"Unknown\":-1, \"Less than $40K\":0, \"$40K - $60K\":1, \"$60K - $80K\":2 ,\"$80K - $120K\":3, \"$120K +\":4})\n",
        "df['Card_Category'] = df['Card_Category'].map({\"Blue\":0, \"Silver\":1, \"Gold\":2, \"Platinum\":3})\n",
        "df['Gender'] = df['Gender'].map({\"M\":0, \"F\":1})\n",
        "df['Education_Level'] = df['Education_Level'].map({\"Unknown\":-1, \"Uneducated\":0, \"High School\":1, \"College\":2 ,\"Graduate\":3, \"Post-Graduate\":4, \"Doctorate\":5})\n",
        "df['Marital_Status'] = df['Marital_Status'].map({\"Unknown\":-1, \"Single\":0, \"Married\":1, \"Divorced\":2})"
      ],
      "metadata": {
        "id": "_vfGnN-wEQTR"
      },
      "execution_count": 548,
      "outputs": []
    },
    {
      "cell_type": "code",
      "source": [
        "df.info()"
      ],
      "metadata": {
        "colab": {
          "base_uri": "https://localhost:8080/"
        },
        "id": "SPp_bdu1FNkM",
        "outputId": "66b803a4-01a1-48be-b7f4-adf6a5b62309"
      },
      "execution_count": 549,
      "outputs": [
        {
          "output_type": "stream",
          "name": "stdout",
          "text": [
            "<class 'pandas.core.frame.DataFrame'>\n",
            "RangeIndex: 10132 entries, 0 to 10131\n",
            "Data columns (total 19 columns):\n",
            " #   Column                    Non-Null Count  Dtype  \n",
            "---  ------                    --------------  -----  \n",
            " 0   CLIENTNUM                 10132 non-null  int64  \n",
            " 1   Customer_Age              10132 non-null  float64\n",
            " 2   Gender                    9933 non-null   float64\n",
            " 3   Dependent_count           10132 non-null  int64  \n",
            " 4   Education_Level           10132 non-null  int64  \n",
            " 5   Marital_Status            8193 non-null   float64\n",
            " 6   Income_Category           10132 non-null  int64  \n",
            " 7   Card_Category             8217 non-null   float64\n",
            " 8   Months_on_book            9911 non-null   float64\n",
            " 9   Total_Relationship_Count  10112 non-null  float64\n",
            " 10  Months_Inactive_12_mon    10132 non-null  int64  \n",
            " 11  Contacts_Count_12_mon     10132 non-null  int64  \n",
            " 12  Credit_Limit              10132 non-null  float64\n",
            " 13  Total_Revolving_Bal       10132 non-null  int64  \n",
            " 14  Total_Amt_Chng_Q4_Q1      10132 non-null  float64\n",
            " 15  Total_Trans_Amt           10132 non-null  int64  \n",
            " 16  Total_Trans_Ct            10132 non-null  int64  \n",
            " 17  Total_Ct_Chng_Q4_Q1       10132 non-null  float64\n",
            " 18  Avg_Utilization_Ratio     10132 non-null  float64\n",
            "dtypes: float64(10), int64(9)\n",
            "memory usage: 1.5 MB\n"
          ]
        }
      ]
    },
    {
      "cell_type": "code",
      "source": [],
      "metadata": {
        "id": "r80lYrJlGCxs"
      },
      "execution_count": 549,
      "outputs": []
    },
    {
      "cell_type": "code",
      "source": [
        "df['Months_on_book'].mean()"
      ],
      "metadata": {
        "colab": {
          "base_uri": "https://localhost:8080/"
        },
        "id": "YRzWLzSAFiXn",
        "outputId": "ed28aa73-395b-4d91-8c8e-2f4c21d0d867"
      },
      "execution_count": 550,
      "outputs": [
        {
          "output_type": "execute_result",
          "data": {
            "text/plain": [
              "35.915346584602965"
            ]
          },
          "metadata": {},
          "execution_count": 550
        }
      ]
    },
    {
      "cell_type": "code",
      "source": [
        "df['Gender'].fillna(df['Gender'].mode()[0], inplace = True)\n",
        "df['Marital_Status'].fillna(df['Marital_Status'].mode()[0], inplace = True)\n",
        "df['Card_Category'].fillna(df['Card_Category'].mode()[0], inplace = True)\n",
        "df['Months_on_book'].fillna(int(df['Months_on_book'].mean()), inplace = True)\n",
        "df['Total_Relationship_Count'].fillna(df['Total_Relationship_Count'].mode()[0], inplace = True)"
      ],
      "metadata": {
        "id": "ICEctbuhFdd_"
      },
      "execution_count": 551,
      "outputs": []
    },
    {
      "cell_type": "code",
      "source": [
        "df.info()"
      ],
      "metadata": {
        "colab": {
          "base_uri": "https://localhost:8080/"
        },
        "id": "_uPDe5ZpGDwY",
        "outputId": "b31436c0-50d1-4405-e095-ef91cb1994fe"
      },
      "execution_count": 552,
      "outputs": [
        {
          "output_type": "stream",
          "name": "stdout",
          "text": [
            "<class 'pandas.core.frame.DataFrame'>\n",
            "RangeIndex: 10132 entries, 0 to 10131\n",
            "Data columns (total 19 columns):\n",
            " #   Column                    Non-Null Count  Dtype  \n",
            "---  ------                    --------------  -----  \n",
            " 0   CLIENTNUM                 10132 non-null  int64  \n",
            " 1   Customer_Age              10132 non-null  float64\n",
            " 2   Gender                    10132 non-null  float64\n",
            " 3   Dependent_count           10132 non-null  int64  \n",
            " 4   Education_Level           10132 non-null  int64  \n",
            " 5   Marital_Status            10132 non-null  float64\n",
            " 6   Income_Category           10132 non-null  int64  \n",
            " 7   Card_Category             10132 non-null  float64\n",
            " 8   Months_on_book            10132 non-null  float64\n",
            " 9   Total_Relationship_Count  10132 non-null  float64\n",
            " 10  Months_Inactive_12_mon    10132 non-null  int64  \n",
            " 11  Contacts_Count_12_mon     10132 non-null  int64  \n",
            " 12  Credit_Limit              10132 non-null  float64\n",
            " 13  Total_Revolving_Bal       10132 non-null  int64  \n",
            " 14  Total_Amt_Chng_Q4_Q1      10132 non-null  float64\n",
            " 15  Total_Trans_Amt           10132 non-null  int64  \n",
            " 16  Total_Trans_Ct            10132 non-null  int64  \n",
            " 17  Total_Ct_Chng_Q4_Q1       10132 non-null  float64\n",
            " 18  Avg_Utilization_Ratio     10132 non-null  float64\n",
            "dtypes: float64(10), int64(9)\n",
            "memory usage: 1.5 MB\n"
          ]
        }
      ]
    },
    {
      "cell_type": "code",
      "source": [
        "y = df['Credit_Limit']\n",
        "x = df.drop(columns=['Credit_Limit'])\n",
        "x = df.drop(columns=['Education_Level'])"
      ],
      "metadata": {
        "id": "QLxCfMEr763p"
      },
      "execution_count": 553,
      "outputs": []
    },
    {
      "cell_type": "code",
      "source": [
        "X_train, X_test, y_train, y_test = train_test_split(x, y, test_size=0.2, shuffle=True)"
      ],
      "metadata": {
        "id": "i-p0uNFR7_oZ"
      },
      "execution_count": 554,
      "outputs": []
    },
    {
      "cell_type": "code",
      "source": [
        "X_train = X_train.values\n",
        "X_test = X_test.values\n",
        "y_train = y_train.values\n",
        "y_test = y_test.values"
      ],
      "metadata": {
        "id": "eSlEI52V8OZs"
      },
      "execution_count": 555,
      "outputs": []
    },
    {
      "cell_type": "code",
      "source": [
        "y_train.shape"
      ],
      "metadata": {
        "colab": {
          "base_uri": "https://localhost:8080/"
        },
        "id": "dYKBDhSTCGTd",
        "outputId": "eaabdddd-dc86-4cbd-891c-3ff74b67e7a9"
      },
      "execution_count": 556,
      "outputs": [
        {
          "output_type": "execute_result",
          "data": {
            "text/plain": [
              "(8105,)"
            ]
          },
          "metadata": {},
          "execution_count": 556
        }
      ]
    },
    {
      "cell_type": "code",
      "source": [
        "rf_regressor = RandomForestRegressor(max_depth=10)\n",
        "rf_regressor.fit(X_train, y_train)\n",
        "y_pred = rf_regressor.predict(X_test)\n",
        "mse = mean_squared_error(y_test, y_pred)\n",
        "r2 = r2_score(y_test, y_pred)\n",
        "\n",
        "print('Mean Squared Error:', mse)\n",
        "print('R2 Score:', r2)"
      ],
      "metadata": {
        "colab": {
          "base_uri": "https://localhost:8080/"
        },
        "id": "hCRpzJ4IKoOH",
        "outputId": "0e108331-d280-445e-b9e0-3758ea8a6f13"
      },
      "execution_count": 557,
      "outputs": [
        {
          "output_type": "stream",
          "name": "stdout",
          "text": [
            "Mean Squared Error: 66.3584868123336\n",
            "R2 Score: 0.9999991686944595\n"
          ]
        }
      ]
    },
    {
      "cell_type": "code",
      "source": [
        "lgb_reg = lgb.LGBMRegressor()\n",
        "lgb_reg.fit(X_train, y_train)\n",
        "\n",
        "y_pred = lgb_reg.predict(X_test)\n",
        "print(mean_squared_error(y_test, y_pred))"
      ],
      "metadata": {
        "colab": {
          "base_uri": "https://localhost:8080/"
        },
        "id": "gAtgRPzQHNIh",
        "outputId": "88432c9b-083e-423b-9b2d-979920f88ec0"
      },
      "execution_count": 558,
      "outputs": [
        {
          "output_type": "stream",
          "name": "stdout",
          "text": [
            "[LightGBM] [Info] Auto-choosing row-wise multi-threading, the overhead of testing was 0.000476 seconds.\n",
            "You can set `force_row_wise=true` to remove the overhead.\n",
            "And if memory is not enough, you can set `force_col_wise=true`.\n",
            "[LightGBM] [Info] Total Bins 2044\n",
            "[LightGBM] [Info] Number of data points in the train set: 8105, number of used features: 18\n",
            "[LightGBM] [Info] Start training from score 8690.010391\n",
            "4250.632532329924\n"
          ]
        }
      ]
    },
    {
      "cell_type": "code",
      "source": [
        "from sklearn.metrics import mean_squared_error, r2_score"
      ],
      "metadata": {
        "id": "4uGkDT6X8EPD"
      },
      "execution_count": 559,
      "outputs": []
    },
    {
      "cell_type": "code",
      "source": [
        "mse = r2_score(y_test, y_predict)\n",
        "print(mse)"
      ],
      "metadata": {
        "colab": {
          "base_uri": "https://localhost:8080/"
        },
        "id": "nbRdkMQS_tGE",
        "outputId": "77891e2c-8ecd-4832-f09d-c440ec12e111"
      },
      "execution_count": 560,
      "outputs": [
        {
          "output_type": "stream",
          "name": "stdout",
          "text": [
            "-1.0238441454970424\n"
          ]
        }
      ]
    },
    {
      "cell_type": "code",
      "source": [],
      "metadata": {
        "id": "pesT22COGnXc"
      },
      "execution_count": 529,
      "outputs": []
    }
  ]
}