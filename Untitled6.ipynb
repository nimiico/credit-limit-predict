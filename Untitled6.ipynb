{
 "cells": [
  {
   "cell_type": "code",
   "execution_count": 52,
   "metadata": {
    "id": "e03-ACkk7gaV"
   },
   "outputs": [],
   "source": [
    "import pandas as pd\n",
    "import numpy as np\n",
    "# import seaborn as sns\n",
    "# import matplotlib.pyplot as plt\n",
    "from sklearn.impute import KNNImputer\n",
    "from sklearn.preprocessing import LabelEncoder\n",
    "from sklearn.preprocessing import MinMaxScaler\n",
    "from sklearn.preprocessing import normalize\n",
    "from sklearn.impute import SimpleImputer\n",
    "from sklearn.model_selection import train_test_split\n",
    "from sklearn.linear_model import LinearRegression\n",
    "from sklearn.metrics import mean_squared_error\n",
    "from sklearn.ensemble import RandomForestRegressor\n",
    "from sklearn.datasets import make_regression\n",
    "from sklearn.preprocessing import StandardScaler\n",
    "import lightgbm as lgb\n",
    "from sklearn.metrics import mean_squared_error, r2_score"
   ]
  },
  {
   "cell_type": "code",
   "execution_count": 53,
   "metadata": {
    "id": "1inh-G7Y7khX"
   },
   "outputs": [],
   "source": [
    "df = pd.read_csv('sources/CreditPrediction.csv')"
   ]
  },
  {
   "cell_type": "code",
   "execution_count": 54,
   "metadata": {
    "id": "NRpBNmnf7zZb"
   },
   "outputs": [],
   "source": [
    "df.drop_duplicates(inplace=True, ignore_index= True)\n",
    "df.drop(['Unnamed: 19'], axis=1,inplace=True)"
   ]
  },
  {
   "cell_type": "code",
   "execution_count": 55,
   "metadata": {
    "id": "_vfGnN-wEQTR"
   },
   "outputs": [],
   "source": [
    "df['Income_Category'] = df['Income_Category'].map({\"Unknown\":-1, \"Less than $40K\":0, \"$40K - $60K\":1, \"$60K - $80K\":2 ,\"$80K - $120K\":3, \"$120K +\":4})\n",
    "df['Card_Category'] = df['Card_Category'].map({\"Blue\":0, \"Silver\":1, \"Gold\":2, \"Platinum\":3})\n",
    "df['Gender'] = df['Gender'].map({\"M\":0, \"F\":1})\n",
    "df['Education_Level'] = df['Education_Level'].map({\"Unknown\":-1, \"Uneducated\":0, \"High School\":1, \"College\":2 ,\"Graduate\":3, \"Post-Graduate\":4, \"Doctorate\":5})\n",
    "df['Marital_Status'] = df['Marital_Status'].map({\"Unknown\":-1, \"Single\":0, \"Married\":1, \"Divorced\":2})"
   ]
  },
  {
   "cell_type": "code",
   "execution_count": 56,
   "metadata": {
    "colab": {
     "base_uri": "https://localhost:8080/"
    },
    "id": "SPp_bdu1FNkM",
    "outputId": "66b803a4-01a1-48be-b7f4-adf6a5b62309"
   },
   "outputs": [
    {
     "name": "stdout",
     "output_type": "stream",
     "text": [
      "<class 'pandas.core.frame.DataFrame'>\n",
      "RangeIndex: 10132 entries, 0 to 10131\n",
      "Data columns (total 19 columns):\n",
      " #   Column                    Non-Null Count  Dtype  \n",
      "---  ------                    --------------  -----  \n",
      " 0   CLIENTNUM                 10132 non-null  int64  \n",
      " 1   Customer_Age              10132 non-null  float64\n",
      " 2   Gender                    9933 non-null   float64\n",
      " 3   Dependent_count           10132 non-null  int64  \n",
      " 4   Education_Level           10132 non-null  int64  \n",
      " 5   Marital_Status            8193 non-null   float64\n",
      " 6   Income_Category           10132 non-null  int64  \n",
      " 7   Card_Category             8217 non-null   float64\n",
      " 8   Months_on_book            9911 non-null   float64\n",
      " 9   Total_Relationship_Count  10112 non-null  float64\n",
      " 10  Months_Inactive_12_mon    10132 non-null  int64  \n",
      " 11  Contacts_Count_12_mon     10132 non-null  int64  \n",
      " 12  Credit_Limit              10132 non-null  float64\n",
      " 13  Total_Revolving_Bal       10132 non-null  int64  \n",
      " 14  Total_Amt_Chng_Q4_Q1      10132 non-null  float64\n",
      " 15  Total_Trans_Amt           10132 non-null  int64  \n",
      " 16  Total_Trans_Ct            10132 non-null  int64  \n",
      " 17  Total_Ct_Chng_Q4_Q1       10132 non-null  float64\n",
      " 18  Avg_Utilization_Ratio     10132 non-null  float64\n",
      "dtypes: float64(10), int64(9)\n",
      "memory usage: 1.5 MB\n"
     ]
    }
   ],
   "source": [
    "df.info()"
   ]
  },
  {
   "cell_type": "code",
   "execution_count": null,
   "metadata": {
    "id": "r80lYrJlGCxs"
   },
   "outputs": [],
   "source": []
  },
  {
   "cell_type": "code",
   "execution_count": 57,
   "metadata": {
    "colab": {
     "base_uri": "https://localhost:8080/"
    },
    "id": "YRzWLzSAFiXn",
    "outputId": "ed28aa73-395b-4d91-8c8e-2f4c21d0d867"
   },
   "outputs": [
    {
     "data": {
      "text/plain": [
       "35.915346584602965"
      ]
     },
     "execution_count": 57,
     "metadata": {},
     "output_type": "execute_result"
    }
   ],
   "source": [
    "df['Months_on_book'].mean()"
   ]
  },
  {
   "cell_type": "code",
   "execution_count": 58,
   "metadata": {
    "id": "ICEctbuhFdd_"
   },
   "outputs": [
    {
     "name": "stderr",
     "output_type": "stream",
     "text": [
      "C:\\Users\\nima\\AppData\\Local\\Temp\\ipykernel_18736\\2220773040.py:1: FutureWarning: A value is trying to be set on a copy of a DataFrame or Series through chained assignment using an inplace method.\n",
      "The behavior will change in pandas 3.0. This inplace method will never work because the intermediate object on which we are setting values always behaves as a copy.\n",
      "\n",
      "For example, when doing 'df[col].method(value, inplace=True)', try using 'df.method({col: value}, inplace=True)' or df[col] = df[col].method(value) instead, to perform the operation inplace on the original object.\n",
      "\n",
      "\n",
      "  df['Gender'].fillna(df['Gender'].mode()[0], inplace = True)\n",
      "C:\\Users\\nima\\AppData\\Local\\Temp\\ipykernel_18736\\2220773040.py:2: FutureWarning: A value is trying to be set on a copy of a DataFrame or Series through chained assignment using an inplace method.\n",
      "The behavior will change in pandas 3.0. This inplace method will never work because the intermediate object on which we are setting values always behaves as a copy.\n",
      "\n",
      "For example, when doing 'df[col].method(value, inplace=True)', try using 'df.method({col: value}, inplace=True)' or df[col] = df[col].method(value) instead, to perform the operation inplace on the original object.\n",
      "\n",
      "\n",
      "  df['Marital_Status'].fillna(df['Marital_Status'].mode()[0], inplace = True)\n",
      "C:\\Users\\nima\\AppData\\Local\\Temp\\ipykernel_18736\\2220773040.py:3: FutureWarning: A value is trying to be set on a copy of a DataFrame or Series through chained assignment using an inplace method.\n",
      "The behavior will change in pandas 3.0. This inplace method will never work because the intermediate object on which we are setting values always behaves as a copy.\n",
      "\n",
      "For example, when doing 'df[col].method(value, inplace=True)', try using 'df.method({col: value}, inplace=True)' or df[col] = df[col].method(value) instead, to perform the operation inplace on the original object.\n",
      "\n",
      "\n",
      "  df['Card_Category'].fillna(df['Card_Category'].mode()[0], inplace = True)\n",
      "C:\\Users\\nima\\AppData\\Local\\Temp\\ipykernel_18736\\2220773040.py:4: FutureWarning: A value is trying to be set on a copy of a DataFrame or Series through chained assignment using an inplace method.\n",
      "The behavior will change in pandas 3.0. This inplace method will never work because the intermediate object on which we are setting values always behaves as a copy.\n",
      "\n",
      "For example, when doing 'df[col].method(value, inplace=True)', try using 'df.method({col: value}, inplace=True)' or df[col] = df[col].method(value) instead, to perform the operation inplace on the original object.\n",
      "\n",
      "\n",
      "  df['Months_on_book'].fillna(int(df['Months_on_book'].mean()), inplace = True)\n",
      "C:\\Users\\nima\\AppData\\Local\\Temp\\ipykernel_18736\\2220773040.py:5: FutureWarning: A value is trying to be set on a copy of a DataFrame or Series through chained assignment using an inplace method.\n",
      "The behavior will change in pandas 3.0. This inplace method will never work because the intermediate object on which we are setting values always behaves as a copy.\n",
      "\n",
      "For example, when doing 'df[col].method(value, inplace=True)', try using 'df.method({col: value}, inplace=True)' or df[col] = df[col].method(value) instead, to perform the operation inplace on the original object.\n",
      "\n",
      "\n",
      "  df['Total_Relationship_Count'].fillna(df['Total_Relationship_Count'].mode()[0], inplace = True)\n"
     ]
    }
   ],
   "source": [
    "df['Gender'].fillna(df['Gender'].mode()[0], inplace = True)\n",
    "df['Marital_Status'].fillna(df['Marital_Status'].mode()[0], inplace = True)\n",
    "df['Card_Category'].fillna(df['Card_Category'].mode()[0], inplace = True)\n",
    "df['Months_on_book'].fillna(int(df['Months_on_book'].mean()), inplace = True)\n",
    "df['Total_Relationship_Count'].fillna(df['Total_Relationship_Count'].mode()[0], inplace = True)"
   ]
  },
  {
   "cell_type": "code",
   "execution_count": 59,
   "metadata": {
    "colab": {
     "base_uri": "https://localhost:8080/"
    },
    "id": "_uPDe5ZpGDwY",
    "outputId": "b31436c0-50d1-4405-e095-ef91cb1994fe"
   },
   "outputs": [
    {
     "name": "stdout",
     "output_type": "stream",
     "text": [
      "<class 'pandas.core.frame.DataFrame'>\n",
      "RangeIndex: 10132 entries, 0 to 10131\n",
      "Data columns (total 19 columns):\n",
      " #   Column                    Non-Null Count  Dtype  \n",
      "---  ------                    --------------  -----  \n",
      " 0   CLIENTNUM                 10132 non-null  int64  \n",
      " 1   Customer_Age              10132 non-null  float64\n",
      " 2   Gender                    10132 non-null  float64\n",
      " 3   Dependent_count           10132 non-null  int64  \n",
      " 4   Education_Level           10132 non-null  int64  \n",
      " 5   Marital_Status            10132 non-null  float64\n",
      " 6   Income_Category           10132 non-null  int64  \n",
      " 7   Card_Category             10132 non-null  float64\n",
      " 8   Months_on_book            10132 non-null  float64\n",
      " 9   Total_Relationship_Count  10132 non-null  float64\n",
      " 10  Months_Inactive_12_mon    10132 non-null  int64  \n",
      " 11  Contacts_Count_12_mon     10132 non-null  int64  \n",
      " 12  Credit_Limit              10132 non-null  float64\n",
      " 13  Total_Revolving_Bal       10132 non-null  int64  \n",
      " 14  Total_Amt_Chng_Q4_Q1      10132 non-null  float64\n",
      " 15  Total_Trans_Amt           10132 non-null  int64  \n",
      " 16  Total_Trans_Ct            10132 non-null  int64  \n",
      " 17  Total_Ct_Chng_Q4_Q1       10132 non-null  float64\n",
      " 18  Avg_Utilization_Ratio     10132 non-null  float64\n",
      "dtypes: float64(10), int64(9)\n",
      "memory usage: 1.5 MB\n"
     ]
    }
   ],
   "source": [
    "df.info()"
   ]
  },
  {
   "cell_type": "code",
   "execution_count": 60,
   "metadata": {
    "id": "QLxCfMEr763p"
   },
   "outputs": [],
   "source": [
    "y = df['Credit_Limit']\n",
    "x = df.drop(columns=['Credit_Limit'])\n",
    "x = df.drop(columns=['Education_Level'])"
   ]
  },
  {
   "cell_type": "code",
   "execution_count": 61,
   "metadata": {
    "id": "i-p0uNFR7_oZ"
   },
   "outputs": [],
   "source": [
    "X_train, X_test, y_train, y_test = train_test_split(x, y, test_size=0.2, shuffle=True)"
   ]
  },
  {
   "cell_type": "code",
   "execution_count": 62,
   "metadata": {
    "id": "eSlEI52V8OZs"
   },
   "outputs": [],
   "source": [
    "X_train = X_train.values\n",
    "X_test = X_test.values\n",
    "y_train = y_train.values\n",
    "y_test = y_test.values"
   ]
  },
  {
   "cell_type": "code",
   "execution_count": 63,
   "metadata": {
    "colab": {
     "base_uri": "https://localhost:8080/"
    },
    "id": "dYKBDhSTCGTd",
    "outputId": "eaabdddd-dc86-4cbd-891c-3ff74b67e7a9"
   },
   "outputs": [
    {
     "data": {
      "text/plain": [
       "(8105,)"
      ]
     },
     "execution_count": 63,
     "metadata": {},
     "output_type": "execute_result"
    }
   ],
   "source": [
    "y_train.shape"
   ]
  },
  {
   "cell_type": "code",
   "execution_count": 64,
   "metadata": {
    "colab": {
     "base_uri": "https://localhost:8080/"
    },
    "id": "hCRpzJ4IKoOH",
    "outputId": "0e108331-d280-445e-b9e0-3758ea8a6f13"
   },
   "outputs": [
    {
     "name": "stdout",
     "output_type": "stream",
     "text": [
      "Mean Squared Error: 59.87705246325377\n",
      "R2 Score: 0.9999992544456494\n"
     ]
    }
   ],
   "source": [
    "rf_regressor = RandomForestRegressor(max_depth=10)\n",
    "rf_regressor.fit(X_train, y_train)\n",
    "y_pred = rf_regressor.predict(X_test)\n",
    "mse = mean_squared_error(y_test, y_pred)\n",
    "r2 = r2_score(y_test, y_pred)\n",
    "\n",
    "print('Mean Squared Error:', mse)\n",
    "print('R2 Score:', r2)"
   ]
  },
  {
   "cell_type": "code",
   "execution_count": 65,
   "metadata": {
    "colab": {
     "base_uri": "https://localhost:8080/"
    },
    "id": "gAtgRPzQHNIh",
    "outputId": "88432c9b-083e-423b-9b2d-979920f88ec0"
   },
   "outputs": [
    {
     "name": "stdout",
     "output_type": "stream",
     "text": [
      "[LightGBM] [Info] Auto-choosing row-wise multi-threading, the overhead of testing was 0.000151 seconds.\n",
      "You can set `force_row_wise=true` to remove the overhead.\n",
      "And if memory is not enough, you can set `force_col_wise=true`.\n",
      "[LightGBM] [Info] Total Bins 2044\n",
      "[LightGBM] [Info] Number of data points in the train set: 8105, number of used features: 18\n",
      "[LightGBM] [Info] Start training from score 8660.625184\n",
      "3772.419018970355\n"
     ]
    }
   ],
   "source": [
    "lgb_reg = lgb.LGBMRegressor()\n",
    "lgb_reg.fit(X_train, y_train)\n",
    "\n",
    "y_pred = lgb_reg.predict(X_test)\n",
    "print(mean_squared_error(y_test, y_pred))"
   ]
  },
  {
   "cell_type": "code",
   "execution_count": 66,
   "metadata": {
    "id": "4uGkDT6X8EPD"
   },
   "outputs": [],
   "source": [
    "from sklearn.metrics import mean_squared_error, r2_score"
   ]
  },
  {
   "cell_type": "code",
   "execution_count": 67,
   "metadata": {
    "colab": {
     "base_uri": "https://localhost:8080/"
    },
    "id": "nbRdkMQS_tGE",
    "outputId": "77891e2c-8ecd-4832-f09d-c440ec12e111"
   },
   "outputs": [
    {
     "data": {
      "text/plain": [
       "190.00287517218948"
      ]
     },
     "execution_count": 67,
     "metadata": {},
     "output_type": "execute_result"
    }
   ],
   "source": [
    "from sklearn import ensemble\n",
    "clf = ensemble.GradientBoostingRegressor(n_estimators= 400, max_depth=5, min_samples_split=2, learning_rate = 0.1, loss = 'squared_error')\n",
    "clf.fit(X_train, y_train)\n",
    "mse = mean_squared_error(y_test, clf.predict(X_test))\n",
    "mse"
   ]
  },
  {
   "cell_type": "code",
   "execution_count": null,
   "metadata": {
    "id": "pesT22COGnXc"
   },
   "outputs": [],
   "source": []
  },
  {
   "cell_type": "code",
   "execution_count": null,
   "metadata": {},
   "outputs": [],
   "source": []
  },
  {
   "cell_type": "code",
   "execution_count": null,
   "metadata": {},
   "outputs": [],
   "source": []
  }
 ],
 "metadata": {
  "colab": {
   "provenance": []
  },
  "kernelspec": {
   "display_name": "Python 3 (ipykernel)",
   "language": "python",
   "name": "python3"
  },
  "language_info": {
   "codemirror_mode": {
    "name": "ipython",
    "version": 3
   },
   "file_extension": ".py",
   "mimetype": "text/x-python",
   "name": "python",
   "nbconvert_exporter": "python",
   "pygments_lexer": "ipython3",
   "version": "3.11.5"
  }
 },
 "nbformat": 4,
 "nbformat_minor": 4
}
