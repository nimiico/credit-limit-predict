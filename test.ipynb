{
 "cells": [
  {
   "cell_type": "code",
   "execution_count": 64,
   "id": "00852b8c-0ea6-481b-8444-212538a87c18",
   "metadata": {},
   "outputs": [],
   "source": [
    "import pandas as pd\n",
    "from sklearn.preprocessing import LabelEncoder\n",
    "from sklearn.preprocessing import MinMaxScaler\n",
    "from sklearn.model_selection import train_test_split"
   ]
  },
  {
   "cell_type": "code",
   "execution_count": 65,
   "id": "1ca3485f-63ec-4298-8ee7-62af3ceb6ad5",
   "metadata": {},
   "outputs": [],
   "source": [
    "dataset = pd.read_csv('sources/CreditPrediction.csv')"
   ]
  },
  {
   "cell_type": "code",
   "execution_count": 66,
   "id": "ee26cb7b-9c94-4796-96d5-1631a5d76f66",
   "metadata": {},
   "outputs": [
    {
     "data": {
      "text/html": [
       "<div>\n",
       "<style scoped>\n",
       "    .dataframe tbody tr th:only-of-type {\n",
       "        vertical-align: middle;\n",
       "    }\n",
       "\n",
       "    .dataframe tbody tr th {\n",
       "        vertical-align: top;\n",
       "    }\n",
       "\n",
       "    .dataframe thead th {\n",
       "        text-align: right;\n",
       "    }\n",
       "</style>\n",
       "<table border=\"1\" class=\"dataframe\">\n",
       "  <thead>\n",
       "    <tr style=\"text-align: right;\">\n",
       "      <th></th>\n",
       "      <th>CLIENTNUM</th>\n",
       "      <th>Customer_Age</th>\n",
       "      <th>Dependent_count</th>\n",
       "      <th>Months_on_book</th>\n",
       "      <th>Total_Relationship_Count</th>\n",
       "      <th>Months_Inactive_12_mon</th>\n",
       "      <th>Contacts_Count_12_mon</th>\n",
       "      <th>Credit_Limit</th>\n",
       "      <th>Total_Revolving_Bal</th>\n",
       "      <th>Total_Amt_Chng_Q4_Q1</th>\n",
       "      <th>Total_Trans_Amt</th>\n",
       "      <th>Total_Trans_Ct</th>\n",
       "      <th>Total_Ct_Chng_Q4_Q1</th>\n",
       "      <th>Avg_Utilization_Ratio</th>\n",
       "      <th>Unnamed: 19</th>\n",
       "    </tr>\n",
       "  </thead>\n",
       "  <tbody>\n",
       "    <tr>\n",
       "      <th>count</th>\n",
       "      <td>1.016700e+04</td>\n",
       "      <td>10167.000000</td>\n",
       "      <td>10167.000000</td>\n",
       "      <td>9944.000000</td>\n",
       "      <td>10147.000000</td>\n",
       "      <td>10167.000000</td>\n",
       "      <td>10167.000000</td>\n",
       "      <td>10167.000000</td>\n",
       "      <td>10167.000000</td>\n",
       "      <td>10167.000000</td>\n",
       "      <td>10167.000000</td>\n",
       "      <td>10167.000000</td>\n",
       "      <td>10167.000000</td>\n",
       "      <td>10167.000000</td>\n",
       "      <td>0.0</td>\n",
       "    </tr>\n",
       "    <tr>\n",
       "      <th>mean</th>\n",
       "      <td>7.391864e+08</td>\n",
       "      <td>46.753817</td>\n",
       "      <td>2.346513</td>\n",
       "      <td>35.913415</td>\n",
       "      <td>3.813245</td>\n",
       "      <td>2.341595</td>\n",
       "      <td>2.455887</td>\n",
       "      <td>8632.552346</td>\n",
       "      <td>1162.176748</td>\n",
       "      <td>0.759721</td>\n",
       "      <td>4402.349661</td>\n",
       "      <td>64.864463</td>\n",
       "      <td>0.712192</td>\n",
       "      <td>0.274716</td>\n",
       "      <td>NaN</td>\n",
       "    </tr>\n",
       "    <tr>\n",
       "      <th>std</th>\n",
       "      <td>3.690366e+07</td>\n",
       "      <td>13.520505</td>\n",
       "      <td>1.298701</td>\n",
       "      <td>7.980102</td>\n",
       "      <td>1.554741</td>\n",
       "      <td>1.010502</td>\n",
       "      <td>1.105580</td>\n",
       "      <td>9087.333842</td>\n",
       "      <td>815.082643</td>\n",
       "      <td>0.219054</td>\n",
       "      <td>3393.953441</td>\n",
       "      <td>23.461680</td>\n",
       "      <td>0.237934</td>\n",
       "      <td>0.275638</td>\n",
       "      <td>NaN</td>\n",
       "    </tr>\n",
       "    <tr>\n",
       "      <th>min</th>\n",
       "      <td>7.080821e+08</td>\n",
       "      <td>26.000000</td>\n",
       "      <td>0.000000</td>\n",
       "      <td>13.000000</td>\n",
       "      <td>1.000000</td>\n",
       "      <td>0.000000</td>\n",
       "      <td>0.000000</td>\n",
       "      <td>1438.300000</td>\n",
       "      <td>0.000000</td>\n",
       "      <td>0.000000</td>\n",
       "      <td>510.000000</td>\n",
       "      <td>10.000000</td>\n",
       "      <td>0.000000</td>\n",
       "      <td>0.000000</td>\n",
       "      <td>NaN</td>\n",
       "    </tr>\n",
       "    <tr>\n",
       "      <th>25%</th>\n",
       "      <td>7.130407e+08</td>\n",
       "      <td>41.000000</td>\n",
       "      <td>1.000000</td>\n",
       "      <td>31.000000</td>\n",
       "      <td>3.000000</td>\n",
       "      <td>2.000000</td>\n",
       "      <td>2.000000</td>\n",
       "      <td>2556.500000</td>\n",
       "      <td>348.500000</td>\n",
       "      <td>0.631000</td>\n",
       "      <td>2155.500000</td>\n",
       "      <td>45.000000</td>\n",
       "      <td>0.582000</td>\n",
       "      <td>0.022000</td>\n",
       "      <td>NaN</td>\n",
       "    </tr>\n",
       "    <tr>\n",
       "      <th>50%</th>\n",
       "      <td>7.179400e+08</td>\n",
       "      <td>46.000000</td>\n",
       "      <td>2.000000</td>\n",
       "      <td>36.000000</td>\n",
       "      <td>4.000000</td>\n",
       "      <td>2.000000</td>\n",
       "      <td>2.000000</td>\n",
       "      <td>4549.000000</td>\n",
       "      <td>1276.000000</td>\n",
       "      <td>0.736000</td>\n",
       "      <td>3900.000000</td>\n",
       "      <td>67.000000</td>\n",
       "      <td>0.702000</td>\n",
       "      <td>0.175000</td>\n",
       "      <td>NaN</td>\n",
       "    </tr>\n",
       "    <tr>\n",
       "      <th>75%</th>\n",
       "      <td>7.731435e+08</td>\n",
       "      <td>52.000000</td>\n",
       "      <td>3.000000</td>\n",
       "      <td>40.000000</td>\n",
       "      <td>5.000000</td>\n",
       "      <td>3.000000</td>\n",
       "      <td>3.000000</td>\n",
       "      <td>11067.500000</td>\n",
       "      <td>1783.000000</td>\n",
       "      <td>0.859000</td>\n",
       "      <td>4740.000000</td>\n",
       "      <td>81.000000</td>\n",
       "      <td>0.818000</td>\n",
       "      <td>0.502500</td>\n",
       "      <td>NaN</td>\n",
       "    </tr>\n",
       "    <tr>\n",
       "      <th>max</th>\n",
       "      <td>8.283431e+08</td>\n",
       "      <td>352.330517</td>\n",
       "      <td>5.000000</td>\n",
       "      <td>56.000000</td>\n",
       "      <td>6.000000</td>\n",
       "      <td>6.000000</td>\n",
       "      <td>6.000000</td>\n",
       "      <td>34516.000000</td>\n",
       "      <td>2517.000000</td>\n",
       "      <td>3.397000</td>\n",
       "      <td>18484.000000</td>\n",
       "      <td>139.000000</td>\n",
       "      <td>3.714000</td>\n",
       "      <td>0.999000</td>\n",
       "      <td>NaN</td>\n",
       "    </tr>\n",
       "  </tbody>\n",
       "</table>\n",
       "</div>"
      ],
      "text/plain": [
       "          CLIENTNUM  Customer_Age  Dependent_count  Months_on_book  \\\n",
       "count  1.016700e+04  10167.000000     10167.000000     9944.000000   \n",
       "mean   7.391864e+08     46.753817         2.346513       35.913415   \n",
       "std    3.690366e+07     13.520505         1.298701        7.980102   \n",
       "min    7.080821e+08     26.000000         0.000000       13.000000   \n",
       "25%    7.130407e+08     41.000000         1.000000       31.000000   \n",
       "50%    7.179400e+08     46.000000         2.000000       36.000000   \n",
       "75%    7.731435e+08     52.000000         3.000000       40.000000   \n",
       "max    8.283431e+08    352.330517         5.000000       56.000000   \n",
       "\n",
       "       Total_Relationship_Count  Months_Inactive_12_mon  \\\n",
       "count              10147.000000            10167.000000   \n",
       "mean                   3.813245                2.341595   \n",
       "std                    1.554741                1.010502   \n",
       "min                    1.000000                0.000000   \n",
       "25%                    3.000000                2.000000   \n",
       "50%                    4.000000                2.000000   \n",
       "75%                    5.000000                3.000000   \n",
       "max                    6.000000                6.000000   \n",
       "\n",
       "       Contacts_Count_12_mon  Credit_Limit  Total_Revolving_Bal  \\\n",
       "count           10167.000000  10167.000000         10167.000000   \n",
       "mean                2.455887   8632.552346          1162.176748   \n",
       "std                 1.105580   9087.333842           815.082643   \n",
       "min                 0.000000   1438.300000             0.000000   \n",
       "25%                 2.000000   2556.500000           348.500000   \n",
       "50%                 2.000000   4549.000000          1276.000000   \n",
       "75%                 3.000000  11067.500000          1783.000000   \n",
       "max                 6.000000  34516.000000          2517.000000   \n",
       "\n",
       "       Total_Amt_Chng_Q4_Q1  Total_Trans_Amt  Total_Trans_Ct  \\\n",
       "count          10167.000000     10167.000000    10167.000000   \n",
       "mean               0.759721      4402.349661       64.864463   \n",
       "std                0.219054      3393.953441       23.461680   \n",
       "min                0.000000       510.000000       10.000000   \n",
       "25%                0.631000      2155.500000       45.000000   \n",
       "50%                0.736000      3900.000000       67.000000   \n",
       "75%                0.859000      4740.000000       81.000000   \n",
       "max                3.397000     18484.000000      139.000000   \n",
       "\n",
       "       Total_Ct_Chng_Q4_Q1  Avg_Utilization_Ratio  Unnamed: 19  \n",
       "count         10167.000000           10167.000000          0.0  \n",
       "mean              0.712192               0.274716          NaN  \n",
       "std               0.237934               0.275638          NaN  \n",
       "min               0.000000               0.000000          NaN  \n",
       "25%               0.582000               0.022000          NaN  \n",
       "50%               0.702000               0.175000          NaN  \n",
       "75%               0.818000               0.502500          NaN  \n",
       "max               3.714000               0.999000          NaN  "
      ]
     },
     "execution_count": 66,
     "metadata": {},
     "output_type": "execute_result"
    }
   ],
   "source": [
    "dataset.describe()"
   ]
  },
  {
   "cell_type": "code",
   "execution_count": 67,
   "id": "f2c9c453-1a15-4f80-9d10-a94a442aee36",
   "metadata": {},
   "outputs": [
    {
     "name": "stdout",
     "output_type": "stream",
     "text": [
      "<class 'pandas.core.frame.DataFrame'>\n",
      "RangeIndex: 10167 entries, 0 to 10166\n",
      "Data columns (total 20 columns):\n",
      " #   Column                    Non-Null Count  Dtype  \n",
      "---  ------                    --------------  -----  \n",
      " 0   CLIENTNUM                 10167 non-null  int64  \n",
      " 1   Customer_Age              10167 non-null  float64\n",
      " 2   Gender                    9968 non-null   object \n",
      " 3   Dependent_count           10167 non-null  int64  \n",
      " 4   Education_Level           10167 non-null  object \n",
      " 5   Marital_Status            8217 non-null   object \n",
      " 6   Income_Category           10167 non-null  object \n",
      " 7   Card_Category             8243 non-null   object \n",
      " 8   Months_on_book            9944 non-null   float64\n",
      " 9   Total_Relationship_Count  10147 non-null  float64\n",
      " 10  Months_Inactive_12_mon    10167 non-null  int64  \n",
      " 11  Contacts_Count_12_mon     10167 non-null  int64  \n",
      " 12  Credit_Limit              10167 non-null  float64\n",
      " 13  Total_Revolving_Bal       10167 non-null  int64  \n",
      " 14  Total_Amt_Chng_Q4_Q1      10167 non-null  float64\n",
      " 15  Total_Trans_Amt           10167 non-null  int64  \n",
      " 16  Total_Trans_Ct            10167 non-null  int64  \n",
      " 17  Total_Ct_Chng_Q4_Q1       10167 non-null  float64\n",
      " 18  Avg_Utilization_Ratio     10167 non-null  float64\n",
      " 19  Unnamed: 19               0 non-null      float64\n",
      "dtypes: float64(8), int64(7), object(5)\n",
      "memory usage: 1.6+ MB\n"
     ]
    }
   ],
   "source": [
    "dataset.info()"
   ]
  },
  {
   "cell_type": "code",
   "execution_count": 68,
   "id": "f87f3a41-0471-4903-a000-2fe753790158",
   "metadata": {},
   "outputs": [],
   "source": [
    "dataset = dataset.drop(\"Unnamed: 19\", axis=1)"
   ]
  },
  {
   "cell_type": "code",
   "execution_count": 69,
   "id": "7e12ff6f-98db-41fa-a0a4-c05c2926dbc0",
   "metadata": {},
   "outputs": [],
   "source": [
    "dataset = dataset.drop_duplicates(subset=[\"CLIENTNUM\"], keep=False)"
   ]
  },
  {
   "cell_type": "code",
   "execution_count": 70,
   "id": "81c2311c-93d4-4630-9ff8-b5f8b5578e80",
   "metadata": {},
   "outputs": [],
   "source": [
    "mean = dataset['Customer_Age'].mean()\n",
    "std = dataset['Customer_Age'].std()\n",
    "\n",
    "z_scores = (dataset['Customer_Age'] - mean) / std\n",
    "\n",
    "outliers = dataset[abs(z_scores) > 3]\n",
    "outliers\n",
    "dataset = dataset.drop(outliers.index)"
   ]
  },
  {
   "cell_type": "code",
   "execution_count": 71,
   "id": "a2fc6164-43e5-427e-9036-e1e1c42b4db6",
   "metadata": {},
   "outputs": [],
   "source": [
    "dataset = dataset.reindex(columns=['CLIENTNUM', 'Customer_Age', 'Gender', 'Dependent_count',\n",
    "       'Education_Level', 'Marital_Status', 'Income_Category', 'Card_Category',\n",
    "       'Months_on_book', 'Total_Relationship_Count', 'Months_Inactive_12_mon',\n",
    "       'Contacts_Count_12_mon', 'Total_Revolving_Bal',\n",
    "       'Total_Amt_Chng_Q4_Q1', 'Total_Trans_Amt', 'Total_Trans_Ct',\n",
    "       'Total_Ct_Chng_Q4_Q1', 'Avg_Utilization_Ratio', 'Credit_Limit'])"
   ]
  },
  {
   "cell_type": "code",
   "execution_count": 72,
   "id": "87da61e9-5868-4056-b57a-3ffb0fb9ec47",
   "metadata": {},
   "outputs": [],
   "source": [
    "dataset['Gender'] =  LabelEncoder().fit(dataset['Gender']).transform(dataset['Gender'])\n",
    "dataset['Education_Level'] =  LabelEncoder().fit(dataset['Education_Level']).transform(dataset['Education_Level'])\n",
    "dataset['Marital_Status'] =  LabelEncoder().fit(dataset['Marital_Status']).transform(dataset['Marital_Status'])\n",
    "dataset['Income_Category'] =  LabelEncoder().fit(dataset['Income_Category']).transform(dataset['Income_Category'])\n",
    "dataset['Card_Category'] =  LabelEncoder().fit(dataset['Card_Category']).transform(dataset['Card_Category'])"
   ]
  },
  {
   "cell_type": "code",
   "execution_count": 73,
   "id": "be77c93f-39a2-468b-9664-5c97495014f3",
   "metadata": {},
   "outputs": [
    {
     "name": "stdout",
     "output_type": "stream",
     "text": [
      "<class 'pandas.core.frame.DataFrame'>\n",
      "Index: 10070 entries, 0 to 10126\n",
      "Data columns (total 19 columns):\n",
      " #   Column                    Non-Null Count  Dtype  \n",
      "---  ------                    --------------  -----  \n",
      " 0   CLIENTNUM                 10070 non-null  int64  \n",
      " 1   Customer_Age              10070 non-null  float64\n",
      " 2   Gender                    10070 non-null  int32  \n",
      " 3   Dependent_count           10070 non-null  int64  \n",
      " 4   Education_Level           10070 non-null  int32  \n",
      " 5   Marital_Status            10070 non-null  int32  \n",
      " 6   Income_Category           10070 non-null  int32  \n",
      " 7   Card_Category             10070 non-null  int32  \n",
      " 8   Months_on_book            9853 non-null   float64\n",
      " 9   Total_Relationship_Count  10050 non-null  float64\n",
      " 10  Months_Inactive_12_mon    10070 non-null  int64  \n",
      " 11  Contacts_Count_12_mon     10070 non-null  int64  \n",
      " 12  Total_Revolving_Bal       10070 non-null  int64  \n",
      " 13  Total_Amt_Chng_Q4_Q1      10070 non-null  float64\n",
      " 14  Total_Trans_Amt           10070 non-null  int64  \n",
      " 15  Total_Trans_Ct            10070 non-null  int64  \n",
      " 16  Total_Ct_Chng_Q4_Q1       10070 non-null  float64\n",
      " 17  Avg_Utilization_Ratio     10070 non-null  float64\n",
      " 18  Credit_Limit              10070 non-null  float64\n",
      "dtypes: float64(7), int32(5), int64(7)\n",
      "memory usage: 1.3 MB\n"
     ]
    }
   ],
   "source": [
    "dataset.info()"
   ]
  },
  {
   "cell_type": "code",
   "execution_count": 74,
   "id": "3e8c4ebb-b6b4-4410-8d85-2af91efe52c8",
   "metadata": {},
   "outputs": [],
   "source": [
    "obj = MinMaxScaler(feature_range = (0,1))\n",
    "obj =  obj.fit(dataset)\n",
    "normal_dataset = obj.transform(dataset)\n",
    "\n",
    "normal_dataset = pd.DataFrame(normal_dataset, columns= dataset.columns)"
   ]
  },
  {
   "cell_type": "code",
   "execution_count": 75,
   "id": "4e577d28-3d6b-495b-ac51-4e0d006ed59f",
   "metadata": {},
   "outputs": [
    {
     "name": "stderr",
     "output_type": "stream",
     "text": [
      "C:\\Users\\nima\\AppData\\Local\\Temp\\ipykernel_2784\\2620093902.py:1: FutureWarning: A value is trying to be set on a copy of a DataFrame or Series through chained assignment using an inplace method.\n",
      "The behavior will change in pandas 3.0. This inplace method will never work because the intermediate object on which we are setting values always behaves as a copy.\n",
      "\n",
      "For example, when doing 'df[col].method(value, inplace=True)', try using 'df.method({col: value}, inplace=True)' or df[col] = df[col].method(value) instead, to perform the operation inplace on the original object.\n",
      "\n",
      "\n",
      "  normal_dataset['Months_on_book'].fillna(value=normal_dataset['Months_on_book'].mean(), inplace=True)\n",
      "C:\\Users\\nima\\AppData\\Local\\Temp\\ipykernel_2784\\2620093902.py:2: FutureWarning: A value is trying to be set on a copy of a DataFrame or Series through chained assignment using an inplace method.\n",
      "The behavior will change in pandas 3.0. This inplace method will never work because the intermediate object on which we are setting values always behaves as a copy.\n",
      "\n",
      "For example, when doing 'df[col].method(value, inplace=True)', try using 'df.method({col: value}, inplace=True)' or df[col] = df[col].method(value) instead, to perform the operation inplace on the original object.\n",
      "\n",
      "\n",
      "  normal_dataset['Total_Relationship_Count'].fillna(value=normal_dataset['Total_Relationship_Count'].mean(), inplace=True)\n"
     ]
    }
   ],
   "source": [
    "normal_dataset['Months_on_book'].fillna(value=normal_dataset['Months_on_book'].mean(), inplace=True)\n",
    "normal_dataset['Total_Relationship_Count'].fillna(value=normal_dataset['Total_Relationship_Count'].mean(), inplace=True)"
   ]
  },
  {
   "cell_type": "code",
   "execution_count": 76,
   "id": "d2e61db5-edd3-40f1-87c6-7507e354eba4",
   "metadata": {},
   "outputs": [],
   "source": [
    "data = normal_dataset.iloc[:, 0:-1]\n",
    "label = normal_dataset.iloc[:,-1]"
   ]
  },
  {
   "cell_type": "code",
   "execution_count": 77,
   "id": "9ed06d09-4029-46d9-85bd-f650cb1ce40a",
   "metadata": {},
   "outputs": [],
   "source": [
    "x_train , x_test, y_train, y_test = train_test_split(data, label , test_size = 0.3, shuffle =True, random_state= 7)"
   ]
  },
  {
   "cell_type": "code",
   "execution_count": 78,
   "id": "ec1631f7-b7f9-4623-900d-e07562ce0d03",
   "metadata": {},
   "outputs": [
    {
     "data": {
      "text/plain": [
       "0.4833871074070699"
      ]
     },
     "execution_count": 78,
     "metadata": {},
     "output_type": "execute_result"
    }
   ],
   "source": [
    "from sklearn.linear_model import LinearRegression\n",
    "\n",
    "model = LinearRegression().fit(x_train, y_train)\n",
    "score = model.score(x_test, y_test)\n",
    "score"
   ]
  },
  {
   "cell_type": "code",
   "execution_count": null,
   "id": "cdbb580b-51c9-4de0-8126-71389d5760b0",
   "metadata": {},
   "outputs": [],
   "source": []
  },
  {
   "cell_type": "code",
   "execution_count": null,
   "id": "db2bbb64-534d-4586-b699-5fee951fef86",
   "metadata": {},
   "outputs": [],
   "source": []
  }
 ],
 "metadata": {
  "kernelspec": {
   "display_name": "Python 3 (ipykernel)",
   "language": "python",
   "name": "python3"
  },
  "language_info": {
   "codemirror_mode": {
    "name": "ipython",
    "version": 3
   },
   "file_extension": ".py",
   "mimetype": "text/x-python",
   "name": "python",
   "nbconvert_exporter": "python",
   "pygments_lexer": "ipython3",
   "version": "3.11.5"
  }
 },
 "nbformat": 4,
 "nbformat_minor": 5
}
